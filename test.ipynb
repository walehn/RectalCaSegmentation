{
 "metadata": {
  "language_info": {
   "codemirror_mode": {
    "name": "ipython",
    "version": 3
   },
   "file_extension": ".py",
   "mimetype": "text/x-python",
   "name": "python",
   "nbconvert_exporter": "python",
   "pygments_lexer": "ipython3",
   "version": "3.8.5"
  },
  "orig_nbformat": 4,
  "kernelspec": {
   "name": "python3",
   "display_name": "Python 3.8.5 64-bit"
  },
  "interpreter": {
   "hash": "3c04c7200a7a335999f47d1817cefa420a51926f42f5307650fda190b83fb1b6"
  }
 },
 "nbformat": 4,
 "nbformat_minor": 2,
 "cells": [
  {
   "cell_type": "code",
   "execution_count": null,
   "metadata": {},
   "outputs": [],
   "source": []
  },
  {
   "cell_type": "code",
   "execution_count": 5,
   "metadata": {},
   "outputs": [
    {
     "output_type": "execute_result",
     "data": {
      "text/plain": [
       "{'bs': 32,\n",
       " 'height': 80,\n",
       " 'width': 80,\n",
       " 'depth': 32,\n",
       " 'epoch_num': 500,\n",
       " 'l_rate': 0.0001,\n",
       " 'network': 'unet3plus',\n",
       " 'precision': 32,\n",
       " 'gpu_num': 4,\n",
       " 'dropout': 0.3,\n",
       " 'model_channels': 32}"
      ]
     },
     "metadata": {},
     "execution_count": 5
    }
   ],
   "source": [
    "params = dict()\n",
    "\n",
    "params = {\n",
    "    \"bs\": 32,\n",
    "    \"height\": 80, \n",
    "    \"width\": 80,\n",
    "    \"depth\": 32,\n",
    "    \"epoch_num\": 500,\n",
    "    \"l_rate\": 1e-4,\n",
    "    \"network\": \"unet3plus\",\n",
    "    \"precision\": 32,\n",
    "    \"gpu_num\": 4,\n",
    "    \"dropout\": 0.3,\n",
    "    \"model_channels\": 32,\n",
    "}\n",
    "\n",
    "params"
   ]
  },
  {
   "cell_type": "code",
   "execution_count": 9,
   "metadata": {},
   "outputs": [
    {
     "output_type": "stream",
     "name": "stdout",
     "text": [
      "0 % 2 is 0\n1 % 2 is 1\n2 % 2 is 0\n3 % 2 is 1\n4 % 2 is 0\n5 % 2 is 1\n6 % 2 is 0\n7 % 2 is 1\n8 % 2 is 0\n9 % 2 is 1\n"
     ]
    }
   ],
   "source": [
    "for i in range(0,10):\n",
    "    print(\"{} % 2 is {}\".format(i, i%2))"
   ]
  },
  {
   "cell_type": "code",
   "execution_count": null,
   "metadata": {},
   "outputs": [],
   "source": []
  },
  {
   "cell_type": "code",
   "execution_count": 16,
   "metadata": {},
   "outputs": [
    {
     "output_type": "execute_result",
     "data": {
      "text/plain": [
       "float"
      ]
     },
     "metadata": {},
     "execution_count": 16
    }
   ],
   "source": [
    "\n",
    "bs = 32\n",
    "Height = 80\n",
    "Width = Height\n",
    "Depth = 32\n",
    "epoch_num = 500\n",
    "l_rate = 1e-4\n",
    "network = \"unet3plus\"\n",
    "precision = 32\n",
    "gpu_num = 4\n",
    "dropout = 0.3\n",
    "model_channels = 32\n",
    "\n",
    "type(dropout)\n"
   ]
  },
  {
   "cell_type": "code",
   "execution_count": 1,
   "metadata": {},
   "outputs": [
    {
     "output_type": "stream",
     "name": "stdout",
     "text": [
      "<module 'tensorboard.version' from '/home/kim/anaconda3/envs/pytorch/lib/python3.8/site-packages/tensorboard/version.py'>\n"
     ]
    },
    {
     "output_type": "execute_result",
     "data": {
      "text/plain": [
       "'2.5.0'"
      ]
     },
     "metadata": {},
     "execution_count": 1
    }
   ],
   "source": [
    "import tensorboard as tb \n",
    "print(tb.version)\n",
    "\n",
    "tb.version.VERSION\n"
   ]
  }
 ]
}